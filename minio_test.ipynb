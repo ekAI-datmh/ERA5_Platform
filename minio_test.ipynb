{
 "cells": [
  {
   "cell_type": "code",
   "execution_count": 3,
   "id": "6a473ba7",
   "metadata": {},
   "outputs": [],
   "source": [
    "import os\n",
    "import boto3\n",
    "import boto3\n",
    "import json\n",
    "from dotenv import load_dotenv\n",
    "from botocore.client import Config"
   ]
  },
  {
   "cell_type": "code",
   "execution_count": 4,
   "id": "1a42128a",
   "metadata": {},
   "outputs": [],
   "source": [
    "# Load credentials\n",
    "with open(\"credentials2.json\") as f:\n",
    "    creds = json.load(f)\n",
    "\n",
    "# Load from .env file\n",
    "load_dotenv()\n",
    "\n",
    "endpoint = os.getenv('MINIO_ENDPOINT')\n",
    "access_key = os.getenv('MINIO_ACCESS_KEY')\n",
    "secret_key = os.getenv('MINIO_SECRET_KEY')\n",
    "bucket_name = os.getenv('MINIO_BUCKET')\n",
    "\n",
    "# ======= Khởi tạo S3 Client ========\n",
    "s3_client = boto3.client(\n",
    "    \"s3\",\n",
    "    endpoint_url=endpoint,\n",
    "    aws_access_key_id=access_key,\n",
    "    aws_secret_access_key=secret_key,\n",
    "    config=Config(signature_version=\"s3v4\"),\n",
    "    # region_name=\"us-east-1\"\n",
    ")\n",
    "\n",
    "def list_objects(bucket_name, prefix=\"\"):\n",
    "    response = s3_client.list_objects_v2(Bucket=bucket_name, Prefix=prefix)\n",
    "    if \"Contents\" in response:\n",
    "        for obj in response[\"Contents\"]:\n",
    "            print(obj[\"Key\"])\n",
    "    else:\n",
    "        print(f\"⚠️ Không tìm thấy object với prefix '{prefix}'\")\n",
    "    \n",
    "def upload_to_s3(local_path, bucket, s3_prefix = ''):\n",
    "    if os.path.isfile(local_path):\n",
    "        s3_client.upload_file(local_path, bucket, s3_key)\n",
    "        print(f\"--> Đã upload {local_path} lên s3://{bucket}/{s3_key}\")\n",
    "        \n",
    "    elif os.path.isdir(local_path):\n",
    "        for root, dirs, files in os.walk(local_path):\n",
    "            for file in files:\n",
    "                file_path = os.path.join(root, file)\n",
    "                relative_path = os.path.relpath(file_path, local_path)\n",
    "                s3_key = os.path.join(s3_prefix, relative_path).replace(\"\\\\\", \"/\").replace(\"//\", \"/\")\n",
    "                s3_client.upload_file(file_path, bucket, s3_key)\n",
    "        print(f\"--> Đã upload {local_path} lên s3://{bucket}/{s3_prefix}\")\n",
    "    \n",
    "    else:\n",
    "        print(f\"The {local_path} does not exist!\")"
   ]
  },
  {
   "cell_type": "code",
   "execution_count": 32,
   "id": "455685b0",
   "metadata": {},
   "outputs": [],
   "source": [
    "def list_folder_like_structure(bucket_name, prefix=\"\"):\n",
    "    response = s3_client.list_objects_v2(\n",
    "        Bucket=bucket_name,\n",
    "        Prefix=prefix,\n",
    "        Delimiter=\"/\"\n",
    "    )\n",
    "\n",
    "    print(\"📁 Thư mục con:\")\n",
    "    for cp in response.get(\"CommonPrefixes\", []):\n",
    "        print(f\" - {cp['Prefix']}\")\n",
    "\n",
    "    print(\"\\n📄 File:\")\n",
    "    for obj in response.get(\"Contents\", []):\n",
    "        print(f\" - {obj['Key']}\")"
   ]
  },
  {
   "cell_type": "code",
   "execution_count": 5,
   "id": "ef6afa16",
   "metadata": {},
   "outputs": [
    {
     "name": "stdout",
     "output_type": "stream",
     "text": [
      "S1A_IW_GRDH_1SDV_20220415T224413_20220415T224438_042790_051B6B_2D71.SAFE\n",
      "--> Đã upload GRD/S1A_IW_GRDH_1SDV_20220415T224413_20220415T224438_042790_051B6B_2D71.SAFE lên s3://eov-platform-test/SENTINEL-1/C-SAR/GRD//S1A_IW_GRDH_1SDV_20220415T224413_20220415T224438_042790_051B6B_2D71.SAFE\n"
     ]
    }
   ],
   "source": [
    "item_metadata_folder = 'item_metadata'\n",
    "safe_folder = 'GRD'\n",
    "path = 'SENTINEL-1/C-SAR/GRD/'\n",
    "for name in os.listdir(safe_folder)[1:2]:\n",
    "    if name.lower().endswith('.safe'):\n",
    "        print(name)\n",
    "        safe_path = os.path.join(safe_folder, name)\n",
    "\n",
    "        s3_prefix = f\"{path}/{name}\"\n",
    "        upload_to_s3(safe_path, 'eov-platform-test', s3_prefix)"
   ]
  }
 ],
 "metadata": {
  "kernelspec": {
   "display_name": "grd",
   "language": "python",
   "name": "python3"
  },
  "language_info": {
   "codemirror_mode": {
    "name": "ipython",
    "version": 3
   },
   "file_extension": ".py",
   "mimetype": "text/x-python",
   "name": "python",
   "nbconvert_exporter": "python",
   "pygments_lexer": "ipython3",
   "version": "3.12.11"
  }
 },
 "nbformat": 4,
 "nbformat_minor": 5
}
